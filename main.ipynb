{
 "cells": [
  {
   "cell_type": "code",
   "execution_count": 12,
   "metadata": {},
   "outputs": [
    {
     "ename": "ImportError",
     "evalue": "cannot import name 'NormalDist' from 'statistics' (/nix/store/7b3bmd3ly8aarps43fny4dzggydc40z2-python3.12-statistics-1.0.3.5/lib/python3.12/site-packages/statistics/__init__.py)",
     "output_type": "error",
     "traceback": [
      "\u001b[0;31m---------------------------------------------------------------------------\u001b[0m",
      "\u001b[0;31mImportError\u001b[0m                               Traceback (most recent call last)",
      "Cell \u001b[0;32mIn[12], line 2\u001b[0m\n\u001b[1;32m      1\u001b[0m \u001b[38;5;28;01mimport\u001b[39;00m \u001b[38;5;21;01mnumpy\u001b[39;00m \u001b[38;5;28;01mas\u001b[39;00m \u001b[38;5;21;01mnp\u001b[39;00m\n\u001b[0;32m----> 2\u001b[0m \u001b[38;5;28;01mfrom\u001b[39;00m \u001b[38;5;21;01mstatistics\u001b[39;00m \u001b[38;5;28;01mimport\u001b[39;00m NormalDist\n\u001b[1;32m      3\u001b[0m \u001b[38;5;28;01mimport\u001b[39;00m \u001b[38;5;21;01mmatplotlib\u001b[39;00m\u001b[38;5;21;01m.\u001b[39;00m\u001b[38;5;21;01mpyplot\u001b[39;00m \u001b[38;5;28;01mas\u001b[39;00m \u001b[38;5;21;01mplt\u001b[39;00m\n\u001b[1;32m      4\u001b[0m \u001b[38;5;28;01mimport\u001b[39;00m \u001b[38;5;21;01mitertools\u001b[39;00m\n",
      "\u001b[0;31mImportError\u001b[0m: cannot import name 'NormalDist' from 'statistics' (/nix/store/7b3bmd3ly8aarps43fny4dzggydc40z2-python3.12-statistics-1.0.3.5/lib/python3.12/site-packages/statistics/__init__.py)"
     ]
    }
   ],
   "source": [
    "import numpy as np\n",
    "import statistics\n",
    "import matplotlib.pyplot as plt\n",
    "import itertools\n",
    "from dataclasses import dataclass\n",
    "import xarray as xr\n",
    "\n",
    "# Define mu, sigma for the intial normal distribution\n",
    "mu, sigma = 0, 1\n",
    "num_measurements = 100000\n",
    "\n",
    "# Enrolled values \n",
    "enrolled = np.random.normal(mu, sigma, num_measurements)\n",
    "\n",
    "# Simulate normal distributed error\n",
    "error_mu = 0\n",
    "error_sigma = 0.1\n",
    "errors = np.random.normal(error_mu, error_sigma, num_measurements)\n",
    "\n",
    "# Add error to normal distributed values to simulate our measurements\n",
    "reconstructed = enrolled + errors\n",
    "\n",
    "print(\"Enrolled: \", enrolled)\n",
    "print(\"Reconstructed: \", reconstructed)"
   ]
  },
  {
   "cell_type": "code",
   "execution_count": 4,
   "metadata": {},
   "outputs": [
    {
     "name": "stdout",
     "output_type": "stream",
     "text": [
      "[0 1 2 3 4 5 6 7]\n",
      "[[-1 -1 -1]\n",
      " [-1 -1  1]\n",
      " [-1  1 -1]\n",
      " [-1  1  1]\n",
      " [ 1 -1 -1]\n",
      " [ 1 -1  1]\n",
      " [ 1  1 -1]\n",
      " [ 1  1  1]]\n"
     ]
    }
   ],
   "source": [
    "# Define the amount of addends used for the linear combination\n",
    "n = 3\n",
    "\n",
    "# Calculate the weight combinations to use for the linear combinations \n",
    "# Assume binary weights element +-1 \n",
    "\n",
    "#def binary_formatter(c): \n",
    "#    if c == 0:\n",
    "#        return -1\n",
    "#    elif c == 1:\n",
    "#        return 1\n",
    "#    else:\n",
    "#        return \"Fucked up there\"\n",
    "\n",
    "# All possible weight combinations based on the number of addends n \n",
    "#weights = list(itertools.product([0, 1], repeat = n))\n",
    "#weights[:] = [[binary_formatter(c) for c in tpl] for tpl in weights]\n",
    "\n",
    "# More elegant solution using np.array \n",
    "weights = np.arange(2**n)\n",
    "print(weights)\n",
    "weights = np.array([[1 if bit == '1' else -1 for bit in np.binary_repr(i, width=n)] for i in weights])\n",
    "print(weights)\n"
   ]
  },
  {
   "cell_type": "code",
   "execution_count": 5,
   "metadata": {},
   "outputs": [],
   "source": [
    "# DataArrays for better multiplication\n",
    "enrolled_sliced = xr.DataArray(list(zip(*[iter(enrolled)]*n)), dims=[\"entry\", \"values\"])\n",
    "weights_array = xr.DataArray(weights, dims=[\"weights\", \"values\"])\n",
    "\n",
    "@dataclass\n",
    "class LinearCombination:\n",
    "    weights: list\n",
    "    value: float \n",
    "\n",
    "@dataclass\n",
    "class LinearCombinationSet:\n",
    "    combination: list\n",
    "\n",
    "# Expand weights to match the 'entry' dimension of enrolled_sliced\n",
    "weights_expanded = weights_array.expand_dims(dim={\"entry\": enrolled_sliced.sizes[\"entry\"]})\n",
    "\n",
    "# Perform element-wise multiplication and sum along the 'values' dimension\n",
    "lincombs_raw = (enrolled_sliced * weights_expanded).sum(dim='values')\n",
    "\n",
    "# Flatten values down to a single dimension\n",
    "lincombs_values = lincombs_raw.values.flatten()\n",
    "# Expand weight indicdes \n",
    "weights_indices = np.tile(np.arange(weights_array.sizes['weights']), len(lincombs_raw))\n",
    "\n",
    "lincombs = [\n",
    "    # ?????????\n",
    "    LinearCombination(weights=weights_array.sel(weights=weights_indices[i]).values.tolist(), value=float(lincombs_values[i]))\n",
    "    for i in range(len(lincombs_values))\n",
    "]\n",
    "\n",
    "lincomb_sets = [\n",
    "    LinearCombinationSet(combination=lincombs[i * weights_array.sizes['weights']:(i+1) * weights_array.sizes['weights']])\n",
    "    for i in range(len(lincombs_raw))\n",
    "]"
   ]
  },
  {
   "cell_type": "code",
   "execution_count": 6,
   "metadata": {},
   "outputs": [
    {
     "name": "stdout",
     "output_type": "stream",
     "text": [
      "LinearCombinationSet(combination=[LinearCombination(weights=[-1, -1, -1], value=0.6966556975176893), LinearCombination(weights=[-1, -1, 1], value=2.182218436450704), LinearCombination(weights=[-1, 1, -1], value=-1.1724459132787728), LinearCombination(weights=[-1, 1, 1], value=0.3131168256542415), LinearCombination(weights=[1, -1, -1], value=-0.3131168256542415), LinearCombination(weights=[1, -1, 1], value=1.1724459132787728), LinearCombination(weights=[1, 1, -1], value=-2.182218436450704), LinearCombination(weights=[1, 1, 1], value=-0.6966556975176893)])\n"
     ]
    }
   ],
   "source": [
    "print(lincomb_sets[1])"
   ]
  },
  {
   "cell_type": "code",
   "execution_count": 7,
   "metadata": {},
   "outputs": [
    {
     "data": {
      "text/plain": [
       "<function matplotlib.pyplot.show(close=None, block=None)>"
      ]
     },
     "execution_count": 7,
     "metadata": {},
     "output_type": "execute_result"
    },
    {
     "data": {
      "image/png": "[encoded data removed]",
      "text/plain": [
       "<Figure size 640x480 with 1 Axes>"
      ]
     },
     "metadata": {},
     "output_type": "display_data"
    }
   ],
   "source": [
    "plt.hist(lincombs_values, bins=1000)\n",
    "plt.title(\"All linear combinations\")\n",
    "plt.show"
   ]
  },
  {
   "cell_type": "code",
   "execution_count": 8,
   "metadata": {
    "slideshow": {
     "slide_type": "slide"
    }
   },
   "outputs": [
    {
     "data": {
      "text/plain": [
       "<function matplotlib.pyplot.show(close=None, block=None)>"
      ]
     },
     "execution_count": 8,
     "metadata": {},
     "output_type": "execute_result"
    },
    {
     "data": {
      "image/png": "[encoded data removed]",
      "text/plain": [
       "<Figure size 640x480 with 1 Axes>"
      ]
     },
     "metadata": {},
     "output_type": "display_data"
    }
   ],
   "source": [
    "plt.hist(enrolled, bins=1000)\n",
    "plt.title(\"Input values\")\n",
    "plt.show"
   ]
  },
  {
   "cell_type": "markdown",
   "metadata": {},
   "source": [
    "Linear combination results seem to be normal distributed. \n",
    "Let's caluclate the quanzizing bounds based on that distribution and try to optimize our points away from there"
   ]
  },
  {
   "cell_type": "code",
   "execution_count": 22,
   "metadata": {},
   "outputs": [
    {
     "ename": "AttributeError",
     "evalue": "module 'statistics' has no attribute 'NormalDist'",
     "output_type": "error",
     "traceback": [
      "\u001b[0;31m---------------------------------------------------------------------------\u001b[0m",
      "\u001b[0;31mAttributeError\u001b[0m                            Traceback (most recent call last)",
      "Cell \u001b[0;32mIn[22], line 7\u001b[0m\n\u001b[1;32m      4\u001b[0m \u001b[38;5;66;03m# Quantizer bounds in the Tilde Domain\u001b[39;00m\n\u001b[1;32m      5\u001b[0m bounds \u001b[38;5;241m=\u001b[39m \u001b[38;5;28mlist\u001b[39m(np\u001b[38;5;241m.\u001b[39mlinspace(\u001b[38;5;241m0\u001b[39m, \u001b[38;5;241m1\u001b[39m, \u001b[38;5;241m2\u001b[39m\u001b[38;5;241m*\u001b[39m\u001b[38;5;241m*\u001b[39mm\u001b[38;5;241m+\u001b[39m\u001b[38;5;241m1\u001b[39m))\n\u001b[0;32m----> 7\u001b[0m distribution \u001b[38;5;241m=\u001b[39m \u001b[43mstatistics\u001b[49m\u001b[38;5;241;43m.\u001b[39;49m\u001b[43mNormalDist\u001b[49m(mu\u001b[38;5;241m=\u001b[39m\u001b[38;5;241m0\u001b[39m, sigma\u001b[38;5;241m=\u001b[39mlincombs_values\u001b[38;5;241m.\u001b[39mstd())\n\u001b[1;32m      9\u001b[0m \u001b[38;5;66;03m# Use the distribution from lincomb_values to caluclate the bounds for equiprobable areas in the real domain\u001b[39;00m\n\u001b[1;32m     10\u001b[0m bounds_real \u001b[38;5;241m=\u001b[39m \u001b[38;5;28mmap\u001b[39m(\u001b[38;5;28;01mlambda\u001b[39;00m x: distribution\u001b[38;5;241m.\u001b[39minv_cdf(x), bounds)\n",
      "\u001b[0;31mAttributeError\u001b[0m: module 'statistics' has no attribute 'NormalDist'"
     ]
    }
   ],
   "source": [
    "# Define number of bits to quantize\n",
    "m = 2\n",
    "\n",
    "# Quantizer bounds in the Tilde Domain\n",
    "bounds = list(np.linspace(0, 1, 2**m+1))\n",
    "\n",
    "distribution = statistics.NormalDist(mu=0, sigma=lincombs_values.std())\n",
    "\n",
    "# Use the distribution from lincomb_values to caluclate the bounds for equiprobable areas in the real domain\n",
    "bounds_real = map(lambda x: distribution.inv_cdf(x), bounds)\n",
    "\n",
    "print(bounds_real)"
   ]
  }
 ],
 "metadata": {
  "kernelspec": {
   "display_name": "Python 3",
   "language": "python",
   "name": "python3"
  },
  "language_info": {
   "codemirror_mode": {
    "name": "ipython",
    "version": 3
   },
   "file_extension": ".py",
   "mimetype": "text/x-python",
   "name": "python",
   "nbconvert_exporter": "python",
   "pygments_lexer": "ipython3",
   "version": "3.12.5"
  }
 },
 "nbformat": 4,
 "nbformat_minor": 2
}
