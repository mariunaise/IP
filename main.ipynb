{
 "cells": [
  {
   "cell_type": "code",
   "execution_count": 6,
   "metadata": {},
   "outputs": [
    {
     "name": "stdout",
     "output_type": "stream",
     "text": [
      "Enrolled:  [-0.00757532 -0.31676767  0.16637121 ...  1.61206703  0.59536222\n",
      "  0.16933574]\n",
      "Reconstructed:  [-0.11964176 -0.39805058  0.21236425 ...  1.58936365  0.6845643\n",
      "  0.09400352]\n"
     ]
    }
   ],
   "source": [
    "import numpy as np\n",
    "import matplotlib.pyplot as plt\n",
    "import itertools\n",
    "from dataclasses import dataclass\n",
    "import xarray as xr\n",
    "import scipy as sc \n",
    "import scipy.stats as sct\n",
    "\n",
    "# Define mu, sigma for the intial normal distribution\n",
    "mu, sigma = 0, 1\n",
    "num_measurements = 100000\n",
    "\n",
    "# Enrolled values \n",
    "enrolled = np.random.normal(mu, sigma, num_measurements)\n",
    "\n",
    "# Simulate normal distributed error\n",
    "error_mu = 0\n",
    "error_sigma = 0.1\n",
    "errors = np.random.normal(error_mu, error_sigma, num_measurements)\n",
    "\n",
    "# Add error to normal distributed values to simulate our measurements\n",
    "reconstructed = enrolled + errors\n",
    "\n",
    "print(\"Enrolled: \", enrolled)\n",
    "print(\"Reconstructed: \", reconstructed)"
   ]
  },
  {
   "cell_type": "code",
   "execution_count": 7,
   "metadata": {},
   "outputs": [
    {
     "name": "stdout",
     "output_type": "stream",
     "text": [
      "[0 1 2 3 4 5 6 7]\n",
      "[[-1 -1 -1]\n",
      " [-1 -1  1]\n",
      " [-1  1 -1]\n",
      " [-1  1  1]\n",
      " [ 1 -1 -1]\n",
      " [ 1 -1  1]\n",
      " [ 1  1 -1]\n",
      " [ 1  1  1]]\n"
     ]
    }
   ],
   "source": [
    "# Define the amount of addends used for the linear combination\n",
    "n = 3\n",
    "\n",
    "# Calculate the weight combinations to use for the linear combinations \n",
    "# Assume binary weights element +-1 \n",
    "\n",
    "#def binary_formatter(c): \n",
    "#    if c == 0:\n",
    "#        return -1\n",
    "#    elif c == 1:\n",
    "#        return 1\n",
    "#    else:\n",
    "#        return \"Fucked up there\"\n",
    "\n",
    "# All possible weight combinations based on the number of addends n \n",
    "#weights = list(itertools.product([0, 1], repeat = n))\n",
    "#weights[:] = [[binary_formatter(c) for c in tpl] for tpl in weights]\n",
    "\n",
    "# More elegant solution using np.array \n",
    "weights = np.arange(2**n)\n",
    "print(weights)\n",
    "weights = np.array([[1 if bit == '1' else -1 for bit in np.binary_repr(i, width=n)] for i in weights])\n",
    "print(weights)\n"
   ]
  },
  {
   "cell_type": "code",
   "execution_count": 8,
   "metadata": {},
   "outputs": [],
   "source": [
    "# DataArrays for better multiplication\n",
    "enrolled_sliced = xr.DataArray(list(zip(*[iter(enrolled)]*n)), dims=[\"entry\", \"values\"])\n",
    "weights_array = xr.DataArray(weights, dims=[\"weights\", \"values\"])\n",
    "\n",
    "@dataclass\n",
    "class LinearCombination:\n",
    "    weights: list\n",
    "    value: float \n",
    "    \n",
    "\n",
    "@dataclass\n",
    "class LinearCombinationSet:\n",
    "    combination: list\n",
    "\n",
    "# Expand weights to match the 'entry' dimension of enrolled_sliced\n",
    "weights_expanded = weights_array.expand_dims(dim={\"entry\": enrolled_sliced.sizes[\"entry\"]})\n",
    "\n",
    "# Perform element-wise multiplication and sum along the 'values' dimension\n",
    "lincombs_raw = (enrolled_sliced * weights_expanded).sum(dim='values')\n",
    "\n",
    "# Flatten values down to a single dimension\n",
    "lincombs_values = lincombs_raw.values.flatten()\n",
    "# Expand weight indicdes \n",
    "weights_indices = np.tile(np.arange(weights_array.sizes['weights']), len(lincombs_raw))\n",
    "\n",
    "lincombs = [\n",
    "    # ?????????\n",
    "    LinearCombination(weights=weights_array.sel(weights=weights_indices[i]).values.tolist(), value=float(lincombs_values[i]))\n",
    "    for i in range(len(lincombs_values))\n",
    "]\n",
    "\n",
    "lincomb_sets = [\n",
    "    LinearCombinationSet(combination=lincombs[i * weights_array.sizes['weights']:(i+1) * weights_array.sizes['weights']])\n",
    "    for i in range(len(lincombs_raw))\n",
    "]"
   ]
  },
  {
   "cell_type": "code",
   "execution_count": 9,
   "metadata": {},
   "outputs": [
    {
     "name": "stdout",
     "output_type": "stream",
     "text": [
      "LinearCombinationSet(combination=[LinearCombination(weights=[-1, -1, -1], value=3.345598241651538), LinearCombination(weights=[-1, -1, 1], value=-0.1649912958389752), LinearCombination(weights=[-1, 1, -1], value=0.44526527884141576), LinearCombination(weights=[-1, 1, 1], value=-3.0653242586490976), LinearCombination(weights=[1, -1, -1], value=3.0653242586490976), LinearCombination(weights=[1, -1, 1], value=-0.44526527884141576), LinearCombination(weights=[1, 1, -1], value=0.1649912958389752), LinearCombination(weights=[1, 1, 1], value=-3.345598241651538)])\n"
     ]
    }
   ],
   "source": [
    "print(lincomb_sets[1])"
   ]
  },
  {
   "cell_type": "code",
   "execution_count": 10,
   "metadata": {},
   "outputs": [
    {
     "data": {
      "image/png": "[encoded data removed]",
      "text/plain": [
       "<Figure size 1000x400 with 2 Axes>"
      ]
     },
     "metadata": {},
     "output_type": "display_data"
    }
   ],
   "source": [
    "fig, ax = plt.subplots(1, 2, figsize=(10, 4))\n",
    "ax[1].hist(lincombs_values, bins=1000)\n",
    "ax[1].set_title(\"All linear combinations distribution\")\n",
    "ax[0].hist(enrolled, bins=1000)\n",
    "ax[0].set_title(\"Input values\")\n",
    "\n",
    "plt.tight_layout()\n",
    "plt.show()"
   ]
  },
  {
   "cell_type": "markdown",
   "metadata": {},
   "source": [
    "Linear combination results seem to be normal distributed. \n",
    "Let's caluclate the quanzizing bounds based on that distribution and try to optimize our points away from there"
   ]
  },
  {
   "cell_type": "code",
   "execution_count": 58,
   "metadata": {},
   "outputs": [],
   "source": [
    "# Define number of bits to quantize\n",
    "m = 2\n",
    "\n",
    "# Quantizer bounds in the Tilde Domain\n",
    "bounds = list(np.linspace(0, 1, 2**m+1))\n",
    "\n",
    "# Bounds real can now be used as constatints for the linear combination to opitmize the input values\n",
    "bounds_real= list(map(lambda x: sct.norm.ppf(x, loc=0, scale=lincombs_values.std()), bounds))\n"
   ]
  },
  {
   "cell_type": "markdown",
   "metadata": {},
   "source": [
    "We can first implement the conventional stategy of opimizing the weights \n",
    "\n",
    "To do this, we will assume that a weight combination is optimal if the distance to the nearest quantization bound is maximized. "
   ]
  },
  {
   "cell_type": "code",
   "execution_count": null,
   "metadata": {},
   "outputs": [],
   "source": [
    "# For every entry in lincomb_sets, iterate over every possible linear combination and calulate the distance to the bounds. \n",
    "# Find the nearest bound and save the bound for that linear combination. \n",
    "# Then, select the linear combinations with the highest distance, the resulting\n",
    "# weights, is the thing that we want to have  \n",
    "\n",
    "for set in lincomb_sets:\n",
    "    # Linear combination with the minimal distance fo a bound\n",
    "    for lincomb in set: \n",
    "        "
   ]
  }
 ],
 "metadata": {
  "kernelspec": {
   "display_name": "Python 3",
   "language": "python",
   "name": "python3"
  },
  "language_info": {
   "codemirror_mode": {
    "name": "ipython",
    "version": 3
   },
   "file_extension": ".py",
   "mimetype": "text/x-python",
   "name": "python",
   "nbconvert_exporter": "python",
   "pygments_lexer": "ipython3",
   "version": "3.12.5"
  }
 },
 "nbformat": 4,
 "nbformat_minor": 2
}
